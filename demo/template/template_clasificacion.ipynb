{
 "cells": [
  {
   "cell_type": "markdown",
   "metadata": {
    "pycharm": {
     "name": "#%% md\n"
    }
   },
   "source": [
    "# _Template_ de proyecto\n",
    "\n"
   ]
  },
  {
   "cell_type": "markdown",
   "metadata": {
    "pycharm": {
     "name": "#%% md\n"
    }
   },
   "source": [
    "**Objetivos:**\n",
    "\n",
    "* Organizar el código del proyecto en modulos (i.e. archivos `.py`).\n",
    "* Estructurar el proyecto en secciones.\n",
    "* Descargar datos del repositorio [UC Irvine Machine Learning Repository](https://archive-beta.ics.uci.edu/ml/datasets), procesarlos, y cargarlos.\n",
    "* Cargar datos desde un directorio local.\n",
    "\n",
    "\n",
    "---"
   ]
  },
  {
   "cell_type": "code",
   "execution_count": 1,
   "outputs": [],
   "source": [
    "import proj_code.dataset as d              # Funciones y rutinas para descargar, procesar los datos, y cargarlos\n",
    "import proj_code.model as m                # Clase con el modelo a implementar\n",
    "import proj_code.metric as me              # Metrics utilizadas para el análisis\n",
    "import matplotlib.pyplot as plt            # Librería para crear visualizaciones\n",
    "import seaborn as sns                      # Librería para crear visualizaciones\n",
    "import pandas as pd                        # Librería para trabajar con data-tabular (i.e. dataframe)\n",
    "import numpy as np                         # Librería prog-cientifica\n",
    "from sklearn.model_selection import train_test_split   # Para separar datos en entrenamiento y evaluación\n",
    "from sklearn.metrics import confusion_matrix           # Para crear matriz de confusion"
   ],
   "metadata": {
    "collapsed": false,
    "pycharm": {
     "name": "#%%\n"
    }
   }
  },
  {
   "cell_type": "markdown",
   "source": [
    "## 1. Cargar datos\n",
    "\n",
    "Sección en que se utilizaran las funciones del módulo `dataset.py` para facilitar la gestión y manejo de nuestros datos."
   ],
   "metadata": {
    "collapsed": false,
    "pycharm": {
     "name": "#%% md\n"
    }
   }
  },
  {
   "cell_type": "code",
   "execution_count": 2,
   "outputs": [
    {
     "name": "stdout",
     "output_type": "stream",
     "text": [
      "Help on function load_iris_web in module proj_code.dataset:\n",
      "\n",
      "load_iris_web(URL='https://archive.ics.uci.edu/ml/machine-learning-databases/iris/iris.data')\n",
      "    Descarga desde el repositorio UCI el dataset iris y retorna un diccionario con el 'dataset', una tupla que\n",
      "    contiene X (input) e y (output), además de las 'etiquetas'.\n",
      "\n"
     ]
    }
   ],
   "source": [
    "help(d.load_iris_web)"
   ],
   "metadata": {
    "collapsed": false,
    "pycharm": {
     "name": "#%%\n"
    }
   }
  },
  {
   "cell_type": "markdown",
   "source": [
    "Notemos que la función `load_iris_web()` del módulo `dataset.py` tiene un _docstring_ con una breve explicación con su funcionalidad.\n",
    "\n",
    "<br>\n",
    "\n",
    "```python\n",
    " def load_iris_web(URL=DATA_SOURCE):\n",
    "    \"\"\"Descarga desde el repositorio UCI el dataset iris y retorna un diccionario con el 'dataset', una tupla que\n",
    "    contiene X (input) e y (output), además de las 'etiquetas'.\"\"\"\n",
    "```\n",
    "\n",
    "<br>\n",
    "\n",
    "A la cual accedimos desde nuestro _jupyter notebook_ con la función `help(nombre_funcion)`. Esto es la mínima práctica de documentación que se espera para las funciones que desarrollen y utilicen en sus proyectos."
   ],
   "metadata": {
    "collapsed": false,
    "pycharm": {
     "name": "#%% md\n"
    }
   }
  },
  {
   "cell_type": "markdown",
   "source": [
    "Ahora guardamos los datos que nos entrega la función `load_iris_web()`."
   ],
   "metadata": {
    "collapsed": false,
    "pycharm": {
     "name": "#%% md\n"
    }
   }
  },
  {
   "cell_type": "code",
   "execution_count": 3,
   "outputs": [
    {
     "name": "stdout",
     "output_type": "stream",
     "text": [
      "Datos cargados con éxito\n"
     ]
    }
   ],
   "source": [
    "data = d.load_iris_web()\n",
    "X, y = data['dataset']\n",
    "labels = data['labels']"
   ],
   "metadata": {
    "collapsed": false,
    "pycharm": {
     "name": "#%%\n"
    }
   }
  },
  {
   "cell_type": "markdown",
   "source": [
    "Inspeccionamos las dimensiones del _dataset_ [Iris](https://archive-beta.ics.uci.edu/ml/datasets/iris):"
   ],
   "metadata": {
    "collapsed": false,
    "pycharm": {
     "name": "#%% md\n"
    }
   }
  },
  {
   "cell_type": "code",
   "execution_count": 4,
   "outputs": [
    {
     "data": {
      "text/plain": "((150, 4), (150,))"
     },
     "execution_count": 4,
     "metadata": {},
     "output_type": "execute_result"
    }
   ],
   "source": [
    "X.shape, y.shape"
   ],
   "metadata": {
    "collapsed": false,
    "pycharm": {
     "name": "#%%\n"
    }
   }
  },
  {
   "cell_type": "markdown",
   "source": [
    "Vemos las primeras 2 observaciones para verificar el formato:"
   ],
   "metadata": {
    "collapsed": false,
    "pycharm": {
     "name": "#%% md\n"
    }
   }
  },
  {
   "cell_type": "code",
   "execution_count": 5,
   "outputs": [
    {
     "data": {
      "text/plain": "   sepal_length  sepal_width  petal_length  petal_width\n0           5.1          3.5           1.4          0.2\n1           4.9          3.0           1.4          0.2",
      "text/html": "<div>\n<style scoped>\n    .dataframe tbody tr th:only-of-type {\n        vertical-align: middle;\n    }\n\n    .dataframe tbody tr th {\n        vertical-align: top;\n    }\n\n    .dataframe thead th {\n        text-align: right;\n    }\n</style>\n<table border=\"1\" class=\"dataframe\">\n  <thead>\n    <tr style=\"text-align: right;\">\n      <th></th>\n      <th>sepal_length</th>\n      <th>sepal_width</th>\n      <th>petal_length</th>\n      <th>petal_width</th>\n    </tr>\n  </thead>\n  <tbody>\n    <tr>\n      <th>0</th>\n      <td>5.1</td>\n      <td>3.5</td>\n      <td>1.4</td>\n      <td>0.2</td>\n    </tr>\n    <tr>\n      <th>1</th>\n      <td>4.9</td>\n      <td>3.0</td>\n      <td>1.4</td>\n      <td>0.2</td>\n    </tr>\n  </tbody>\n</table>\n</div>"
     },
     "execution_count": 5,
     "metadata": {},
     "output_type": "execute_result"
    }
   ],
   "source": [
    "X.head(n=2)"
   ],
   "metadata": {
    "collapsed": false,
    "pycharm": {
     "name": "#%%\n"
    }
   }
  },
  {
   "cell_type": "code",
   "execution_count": 6,
   "outputs": [
    {
     "data": {
      "text/plain": "0    0\n1    0\nName: species, dtype: int64"
     },
     "execution_count": 6,
     "metadata": {},
     "output_type": "execute_result"
    }
   ],
   "source": [
    "y.head(n=2)"
   ],
   "metadata": {
    "collapsed": false,
    "pycharm": {
     "name": "#%%\n"
    }
   }
  },
  {
   "cell_type": "markdown",
   "source": [
    "¿Cuántas especies distintas hay?"
   ],
   "metadata": {
    "collapsed": false,
    "pycharm": {
     "name": "#%% md\n"
    }
   }
  },
  {
   "cell_type": "code",
   "execution_count": 7,
   "outputs": [
    {
     "data": {
      "text/plain": "array([0, 1, 2])"
     },
     "execution_count": 7,
     "metadata": {},
     "output_type": "execute_result"
    }
   ],
   "source": [
    "y.unique()"
   ],
   "metadata": {
    "collapsed": false,
    "pycharm": {
     "name": "#%%\n"
    }
   }
  },
  {
   "cell_type": "markdown",
   "source": [
    "Notemos que cuando cargamos el _dataset_ también nos entregaba las etiquetas que nos ayudan a mapear el identificador (i.e. número que vemos arriba) a la clase que representa."
   ],
   "metadata": {
    "collapsed": false,
    "pycharm": {
     "name": "#%% md\n"
    }
   }
  },
  {
   "cell_type": "code",
   "execution_count": 8,
   "outputs": [
    {
     "data": {
      "text/plain": "{'Iris-setosa': 0, 'Iris-versicolor': 1, 'Iris-virginica': 2}"
     },
     "execution_count": 8,
     "metadata": {},
     "output_type": "execute_result"
    }
   ],
   "source": [
    "labels"
   ],
   "metadata": {
    "collapsed": false,
    "pycharm": {
     "name": "#%%\n"
    }
   }
  },
  {
   "cell_type": "markdown",
   "source": [
    "Ahora vamos a dejar un 20% del _dataset_ destinado a evaluar que tan bien ajusta nuestro modelo.\n",
    "\n",
    "Fraccionaremos el conjunto de datos de manera aleatoria, para garantizar la reproducibilidad de los resultados utilizaremos el argumento `random_state` dandole una semilla que permite replicar los resultados."
   ],
   "metadata": {
    "collapsed": false,
    "pycharm": {
     "name": "#%% md\n"
    }
   }
  },
  {
   "cell_type": "code",
   "execution_count": 9,
   "outputs": [],
   "source": [
    "X_train, X_test, y_train, y_test = train_test_split(X, y, test_size=0.2, random_state=42)"
   ],
   "metadata": {
    "collapsed": false,
    "pycharm": {
     "name": "#%%\n"
    }
   }
  },
  {
   "cell_type": "code",
   "execution_count": 10,
   "outputs": [
    {
     "data": {
      "text/plain": "((120, 4), (30, 4))"
     },
     "execution_count": 10,
     "metadata": {},
     "output_type": "execute_result"
    }
   ],
   "source": [
    "X_train.shape, X_test.shape"
   ],
   "metadata": {
    "collapsed": false,
    "pycharm": {
     "name": "#%%\n"
    }
   }
  },
  {
   "cell_type": "code",
   "execution_count": 11,
   "outputs": [
    {
     "data": {
      "text/plain": "((120,), (30,))"
     },
     "execution_count": 11,
     "metadata": {},
     "output_type": "execute_result"
    }
   ],
   "source": [
    "y_train.shape, y_test.shape"
   ],
   "metadata": {
    "collapsed": false,
    "pycharm": {
     "name": "#%%\n"
    }
   }
  },
  {
   "cell_type": "code",
   "execution_count": 12,
   "outputs": [
    {
     "data": {
      "text/plain": "<Figure size 432x288 with 1 Axes>",
      "image/png": "[encoded data removed]"
     },
     "metadata": {
      "needs_background": "light"
     },
     "output_type": "display_data"
    }
   ],
   "source": [
    "plt.scatter(X_train['sepal_length'], X_train['sepal_width'], c=y_train);"
   ],
   "metadata": {
    "collapsed": false,
    "pycharm": {
     "name": "#%%\n"
    }
   }
  },
  {
   "cell_type": "markdown",
   "source": [
    "## 2. Modelo\n",
    "\n",
    "Sección en que se utilizaremos los modelos especificados en el módulo `model.py`.\n"
   ],
   "metadata": {
    "collapsed": false,
    "pycharm": {
     "name": "#%% md\n"
    }
   }
  },
  {
   "cell_type": "markdown",
   "source": [
    "Entrenaremos dos modelos:\n",
    "\n",
    "* Regresión Logistica\n",
    "* Naive Bayess \n",
    "\n",
    "Los que requieren los datos de entrenamiento que consisten en pares de inputs (`X_train`) y output (`y_train`). Diferentes formas, pero que finalmente usaran los datos para \"aprender\" y ajustar sus parámetros."
   ],
   "metadata": {
    "collapsed": false,
    "pycharm": {
     "name": "#%% md\n"
    }
   }
  },
  {
   "cell_type": "code",
   "execution_count": 13,
   "outputs": [],
   "source": [
    "modelo_reg_logistica = m.reg_logistica(X_train, y_train.values.ravel())\n",
    "modelo_naive_bayes = m.gaussian_naive_bayes(X_train, y_train.values.ravel())"
   ],
   "metadata": {
    "collapsed": false,
    "pycharm": {
     "name": "#%%\n"
    }
   }
  },
  {
   "cell_type": "markdown",
   "source": [
    "Nuestros modelos ya fueron ajustados y podemos utilizarlos para obtener las predicciones sobre el conjunto que separamos para medir el desempeño. La idea de probar el modelo en datos que no utilizó es medir la generalización en datos nunca antes vistos."
   ],
   "metadata": {
    "collapsed": false,
    "pycharm": {
     "name": "#%% md\n"
    }
   }
  },
  {
   "cell_type": "code",
   "execution_count": 14,
   "outputs": [],
   "source": [
    "reg_logistica_preds = modelo_reg_logistica.predict(X_test)\n",
    "naive_bayes_preds = modelo_naive_bayes.predict(X_test)"
   ],
   "metadata": {
    "collapsed": false,
    "pycharm": {
     "name": "#%%\n"
    }
   }
  },
  {
   "cell_type": "markdown",
   "source": [
    "## 3. Métricas\n",
    "\n",
    "Sección en que se utilizaran las métricas especificadas en el módulo `metric.py`."
   ],
   "metadata": {
    "collapsed": false,
    "pycharm": {
     "name": "#%% md\n"
    }
   }
  },
  {
   "cell_type": "code",
   "execution_count": 15,
   "outputs": [
    {
     "name": "stdout",
     "output_type": "stream",
     "text": [
      "Desempeño regresión logistica según accuracy: 1.0\n",
      "Desempeño naive bayes según accuracy: 1.0\n"
     ]
    }
   ],
   "source": [
    "print(f'Desempeño regresión logistica según accuracy: {me.metrica_accuracy(y_test, reg_logistica_preds)}')\n",
    "print(f'Desempeño naive bayes según accuracy: {me.metrica_accuracy(y_test, naive_bayes_preds)}')"
   ],
   "metadata": {
    "collapsed": false,
    "pycharm": {
     "name": "#%%\n"
    }
   }
  },
  {
   "cell_type": "code",
   "execution_count": 16,
   "outputs": [
    {
     "name": "stdout",
     "output_type": "stream",
     "text": [
      "Desempeño regresión logistica según f1-score: 1.0\n",
      "Desempeño naive bayes según f1-score: 1.0\n"
     ]
    }
   ],
   "source": [
    "print(f'Desempeño regresión logistica según f1-score: {me.metrica_f1score(y_test, reg_logistica_preds)}')\n",
    "print(f'Desempeño naive bayes según f1-score: {me.metrica_f1score(y_test, naive_bayes_preds)}')"
   ],
   "metadata": {
    "collapsed": false,
    "pycharm": {
     "name": "#%%\n"
    }
   }
  },
  {
   "cell_type": "markdown",
   "source": [
    "Ahora vamos crear una función para visualizar las matrices de confusion y que en cada celda aparezca el % que representa el número de etiquetas sobre el total."
   ],
   "metadata": {
    "collapsed": false,
    "pycharm": {
     "name": "#%% md\n"
    }
   }
  },
  {
   "cell_type": "code",
   "execution_count": 17,
   "outputs": [
    {
     "data": {
      "text/plain": "array([[10,  0,  0],\n       [ 0,  9,  0],\n       [ 0,  0, 11]])"
     },
     "execution_count": 17,
     "metadata": {},
     "output_type": "execute_result"
    }
   ],
   "source": [
    "confusion_matrix(y_test, reg_logistica_preds)"
   ],
   "metadata": {
    "collapsed": false,
    "pycharm": {
     "name": "#%%\n"
    }
   }
  },
  {
   "cell_type": "code",
   "execution_count": 18,
   "outputs": [
    {
     "data": {
      "text/plain": "array([[10,  0,  0],\n       [ 0,  9,  0],\n       [ 0,  0, 11]])"
     },
     "execution_count": 18,
     "metadata": {},
     "output_type": "execute_result"
    }
   ],
   "source": [
    "confusion_matrix(y_test, naive_bayes_preds)"
   ],
   "metadata": {
    "collapsed": false,
    "pycharm": {
     "name": "#%%\n"
    }
   }
  },
  {
   "cell_type": "code",
   "execution_count": 19,
   "outputs": [],
   "source": [
    "def plot_matriz_confusion(cf, CMAP='Blues_r'):\n",
    "    \"\"\"Recibe un array con la matriz de confusion\"\"\"\n",
    "    classes = ['setosa', 'versicolor', 'virginica']\n",
    "    df_cm_log = pd.DataFrame(cf / np.sum(cf) * 100,\n",
    "                             index = [i for i in classes],\n",
    "                             columns = [i for i in classes])\n",
    "    sns.heatmap(df_cm_log, annot=True, cmap=CMAP, linewidth=.5,\n",
    "                linecolor='lightgrey', annot_kws={'size': 8.5},);"
   ],
   "metadata": {
    "collapsed": false,
    "pycharm": {
     "name": "#%%\n"
    }
   }
  },
  {
   "cell_type": "code",
   "execution_count": 20,
   "outputs": [
    {
     "data": {
      "text/plain": "<Figure size 432x288 with 2 Axes>",
      "image/png": "[encoded data removed]"
     },
     "metadata": {
      "needs_background": "light"
     },
     "output_type": "display_data"
    }
   ],
   "source": [
    "plot_matriz_confusion(confusion_matrix(y_test, reg_logistica_preds))"
   ],
   "metadata": {
    "collapsed": false,
    "pycharm": {
     "name": "#%%\n"
    }
   }
  },
  {
   "cell_type": "code",
   "execution_count": 21,
   "outputs": [
    {
     "data": {
      "text/plain": "<Figure size 432x288 with 2 Axes>",
      "image/png": "[encoded data removed]"
     },
     "metadata": {
      "needs_background": "light"
     },
     "output_type": "display_data"
    }
   ],
   "source": [
    "plot_matriz_confusion(confusion_matrix(y_test, naive_bayes_preds))"
   ],
   "metadata": {
    "collapsed": false,
    "pycharm": {
     "name": "#%%\n"
    }
   }
  },
  {
   "cell_type": "code",
   "execution_count": 22,
   "outputs": [
    {
     "data": {
      "text/plain": "(0.3333333333333333, 0.3, 0.36666666666666664)"
     },
     "execution_count": 22,
     "metadata": {},
     "output_type": "execute_result"
    }
   ],
   "source": [
    "# Verificar % de etiquetas (30 observacions en test de prueba)\n",
    "10/30, 9/30, 11/30"
   ],
   "metadata": {
    "collapsed": false,
    "pycharm": {
     "name": "#%%\n"
    }
   }
  },
  {
   "cell_type": "code",
   "execution_count": null,
   "outputs": [],
   "source": [],
   "metadata": {
    "collapsed": false,
    "pycharm": {
     "name": "#%%\n"
    }
   }
  },
  {
   "cell_type": "code",
   "execution_count": 97,
   "metadata": {
    "pycharm": {
     "name": "#%%\n"
    }
   },
   "outputs": [
    {
     "data": {
      "image/png": "[encoded data removed]",
      "text/plain": [
       "<Figure size 432x288 with 2 Axes>"
      ]
     },
     "metadata": {
      "needs_background": "light"
     },
     "output_type": "display_data"
    }
   ],
   "source": [
    "plot_matriz_confusion(confusion_matrix(y_test, naive_bayes_preds))"
   ]
  },
  {
   "cell_type": "code",
   "execution_count": 101,
   "metadata": {},
   "outputs": [
    {
     "data": {
      "text/plain": [
       "(0.3333333333333333, 0.3, 0.36666666666666664)"
      ]
     },
     "execution_count": 101,
     "metadata": {},
     "output_type": "execute_result"
    }
   ],
   "source": [
    "# Verificar % de etiquetas (30 observacions en test de prueba)\n",
    "10/30, 9/30, 11/30"
   ]
  }
 ],
 "metadata": {
  "kernelspec": {
   "display_name": "Python 3",
   "language": "python",
   "name": "python3"
  },
  "language_info": {
   "codemirror_mode": {
    "name": "ipython",
    "version": 3
   },
   "file_extension": ".py",
   "mimetype": "text/x-python",
   "name": "python",
   "nbconvert_exporter": "python",
   "pygments_lexer": "ipython3",
   "version": "3.8.10"
  }
 },
 "nbformat": 4,
 "nbformat_minor": 1
}