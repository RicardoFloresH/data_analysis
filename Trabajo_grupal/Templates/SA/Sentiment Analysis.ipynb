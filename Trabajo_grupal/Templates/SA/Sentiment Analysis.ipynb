{
 "cells": [
  {
   "cell_type": "markdown",
   "id": "5fa3e07c",
   "metadata": {},
   "source": [
    "### Sentiment Analysis with BERT (Transfer learning, without fine-tune)\n",
    "#### data source: Amazon Fine Food Reviews\n",
    "#### Ricardo Flores"
   ]
  },
  {
   "cell_type": "markdown",
   "id": "19fcff7f",
   "metadata": {},
   "source": [
    "### Step 0: Cargar librerias"
   ]
  },
  {
   "cell_type": "code",
   "execution_count": 1,
   "id": "aaad50d8",
   "metadata": {},
   "outputs": [],
   "source": [
    "import pandas as pd\n",
    "import numpy as np\n",
    "import random\n",
    "import re\n",
    "\n",
    "from sklearn.model_selection import train_test_split\n",
    "from sklearn.utils import resample\n",
    "\n",
    "# metrics\n",
    "from sklearn.metrics import accuracy_score\n",
    "from sklearn.metrics import precision_score\n",
    "from sklearn.metrics import recall_score\n",
    "from sklearn.metrics import f1_score\n",
    "\n",
    "# plots\n",
    "import seaborn as sns\n",
    "import matplotlib.pyplot as plt\n",
    "\n",
    "# BERT (transformers)\n",
    "from transformers import pipeline\n",
    "\n"
   ]
  },
  {
   "cell_type": "code",
   "execution_count": 3,
   "id": "a38c6ba6",
   "metadata": {},
   "outputs": [],
   "source": [
    "def metrics_report(y_test, y_pred):\n",
    "    # metrics \n",
    "    precision = precision_score(y_test, y_pred)\n",
    "    recall = recall_score(y_test, y_pred)\n",
    "    f1 = f1_score(y_test, y_pred)\n",
    "    acc = accuracy_score(y_test, y_pred)\n",
    "\n",
    "    return precision, recall, f1, acc"
   ]
  },
  {
   "cell_type": "markdown",
   "id": "becefcfb",
   "metadata": {},
   "source": [
    "### Steps 1: Datos"
   ]
  },
  {
   "cell_type": "code",
   "execution_count": 4,
   "id": "799b8274",
   "metadata": {},
   "outputs": [],
   "source": [
    "# get data \n",
    "df_review = pd.read_csv('./data/Reviews.csv')"
   ]
  },
  {
   "cell_type": "code",
   "execution_count": 5,
   "id": "2ccb8982",
   "metadata": {},
   "outputs": [
    {
     "data": {
      "text/html": [
       "<div>\n",
       "<style scoped>\n",
       "    .dataframe tbody tr th:only-of-type {\n",
       "        vertical-align: middle;\n",
       "    }\n",
       "\n",
       "    .dataframe tbody tr th {\n",
       "        vertical-align: top;\n",
       "    }\n",
       "\n",
       "    .dataframe thead th {\n",
       "        text-align: right;\n",
       "    }\n",
       "</style>\n",
       "<table border=\"1\" class=\"dataframe\">\n",
       "  <thead>\n",
       "    <tr style=\"text-align: right;\">\n",
       "      <th></th>\n",
       "      <th>Id</th>\n",
       "      <th>Score</th>\n",
       "      <th>Text</th>\n",
       "    </tr>\n",
       "  </thead>\n",
       "  <tbody>\n",
       "    <tr>\n",
       "      <th>0</th>\n",
       "      <td>127276</td>\n",
       "      <td>5</td>\n",
       "      <td>There is something to be said about this candy...</td>\n",
       "    </tr>\n",
       "    <tr>\n",
       "      <th>1</th>\n",
       "      <td>395444</td>\n",
       "      <td>5</td>\n",
       "      <td>In many languages around the world, \"chai\" sim...</td>\n",
       "    </tr>\n",
       "    <tr>\n",
       "      <th>2</th>\n",
       "      <td>225935</td>\n",
       "      <td>1</td>\n",
       "      <td>Review of Asian Taste Dried Mushroom, 5-Ounce ...</td>\n",
       "    </tr>\n",
       "    <tr>\n",
       "      <th>3</th>\n",
       "      <td>562268</td>\n",
       "      <td>5</td>\n",
       "      <td>Great flavor. I have always ordered Blue Diamo...</td>\n",
       "    </tr>\n",
       "    <tr>\n",
       "      <th>4</th>\n",
       "      <td>491584</td>\n",
       "      <td>3</td>\n",
       "      <td>The product came with a crushed box but was OK...</td>\n",
       "    </tr>\n",
       "    <tr>\n",
       "      <th>...</th>\n",
       "      <td>...</td>\n",
       "      <td>...</td>\n",
       "      <td>...</td>\n",
       "    </tr>\n",
       "    <tr>\n",
       "      <th>5680</th>\n",
       "      <td>407146</td>\n",
       "      <td>4</td>\n",
       "      <td>For the amount of money spent on this product ...</td>\n",
       "    </tr>\n",
       "    <tr>\n",
       "      <th>5681</th>\n",
       "      <td>323379</td>\n",
       "      <td>5</td>\n",
       "      <td>I love this product. It's really a great way t...</td>\n",
       "    </tr>\n",
       "    <tr>\n",
       "      <th>5682</th>\n",
       "      <td>455703</td>\n",
       "      <td>5</td>\n",
       "      <td>Wow! This jerky is delicious! I have purchased...</td>\n",
       "    </tr>\n",
       "    <tr>\n",
       "      <th>5683</th>\n",
       "      <td>563011</td>\n",
       "      <td>5</td>\n",
       "      <td>The soft baked cookies are amazingly delicious...</td>\n",
       "    </tr>\n",
       "    <tr>\n",
       "      <th>5684</th>\n",
       "      <td>404112</td>\n",
       "      <td>4</td>\n",
       "      <td>I found this product on a doctors website.  It...</td>\n",
       "    </tr>\n",
       "  </tbody>\n",
       "</table>\n",
       "<p>5685 rows × 3 columns</p>\n",
       "</div>"
      ],
      "text/plain": [
       "          Id  Score                                               Text\n",
       "0     127276      5  There is something to be said about this candy...\n",
       "1     395444      5  In many languages around the world, \"chai\" sim...\n",
       "2     225935      1  Review of Asian Taste Dried Mushroom, 5-Ounce ...\n",
       "3     562268      5  Great flavor. I have always ordered Blue Diamo...\n",
       "4     491584      3  The product came with a crushed box but was OK...\n",
       "...      ...    ...                                                ...\n",
       "5680  407146      4  For the amount of money spent on this product ...\n",
       "5681  323379      5  I love this product. It's really a great way t...\n",
       "5682  455703      5  Wow! This jerky is delicious! I have purchased...\n",
       "5683  563011      5  The soft baked cookies are amazingly delicious...\n",
       "5684  404112      4  I found this product on a doctors website.  It...\n",
       "\n",
       "[5685 rows x 3 columns]"
      ]
     },
     "execution_count": 5,
     "metadata": {},
     "output_type": "execute_result"
    }
   ],
   "source": [
    "# Select relevant columns \n",
    "df_review = df_review[['Id', 'Score', 'Text']]\n",
    "df_review"
   ]
  },
  {
   "cell_type": "code",
   "execution_count": 7,
   "id": "8f3209c6",
   "metadata": {},
   "outputs": [
    {
     "data": {
      "text/html": [
       "<div>\n",
       "<style scoped>\n",
       "    .dataframe tbody tr th:only-of-type {\n",
       "        vertical-align: middle;\n",
       "    }\n",
       "\n",
       "    .dataframe tbody tr th {\n",
       "        vertical-align: top;\n",
       "    }\n",
       "\n",
       "    .dataframe thead th {\n",
       "        text-align: right;\n",
       "    }\n",
       "</style>\n",
       "<table border=\"1\" class=\"dataframe\">\n",
       "  <thead>\n",
       "    <tr style=\"text-align: right;\">\n",
       "      <th></th>\n",
       "      <th>Id</th>\n",
       "      <th>Score</th>\n",
       "      <th>Text</th>\n",
       "      <th>Label</th>\n",
       "    </tr>\n",
       "  </thead>\n",
       "  <tbody>\n",
       "    <tr>\n",
       "      <th>0</th>\n",
       "      <td>127276</td>\n",
       "      <td>5</td>\n",
       "      <td>There is something to be said about this candy...</td>\n",
       "      <td>1</td>\n",
       "    </tr>\n",
       "    <tr>\n",
       "      <th>1</th>\n",
       "      <td>395444</td>\n",
       "      <td>5</td>\n",
       "      <td>In many languages around the world, \"chai\" sim...</td>\n",
       "      <td>1</td>\n",
       "    </tr>\n",
       "    <tr>\n",
       "      <th>2</th>\n",
       "      <td>225935</td>\n",
       "      <td>1</td>\n",
       "      <td>Review of Asian Taste Dried Mushroom, 5-Ounce ...</td>\n",
       "      <td>0</td>\n",
       "    </tr>\n",
       "    <tr>\n",
       "      <th>3</th>\n",
       "      <td>562268</td>\n",
       "      <td>5</td>\n",
       "      <td>Great flavor. I have always ordered Blue Diamo...</td>\n",
       "      <td>1</td>\n",
       "    </tr>\n",
       "    <tr>\n",
       "      <th>4</th>\n",
       "      <td>491584</td>\n",
       "      <td>3</td>\n",
       "      <td>The product came with a crushed box but was OK...</td>\n",
       "      <td>0</td>\n",
       "    </tr>\n",
       "    <tr>\n",
       "      <th>...</th>\n",
       "      <td>...</td>\n",
       "      <td>...</td>\n",
       "      <td>...</td>\n",
       "      <td>...</td>\n",
       "    </tr>\n",
       "    <tr>\n",
       "      <th>5680</th>\n",
       "      <td>407146</td>\n",
       "      <td>4</td>\n",
       "      <td>For the amount of money spent on this product ...</td>\n",
       "      <td>1</td>\n",
       "    </tr>\n",
       "    <tr>\n",
       "      <th>5681</th>\n",
       "      <td>323379</td>\n",
       "      <td>5</td>\n",
       "      <td>I love this product. It's really a great way t...</td>\n",
       "      <td>1</td>\n",
       "    </tr>\n",
       "    <tr>\n",
       "      <th>5682</th>\n",
       "      <td>455703</td>\n",
       "      <td>5</td>\n",
       "      <td>Wow! This jerky is delicious! I have purchased...</td>\n",
       "      <td>1</td>\n",
       "    </tr>\n",
       "    <tr>\n",
       "      <th>5683</th>\n",
       "      <td>563011</td>\n",
       "      <td>5</td>\n",
       "      <td>The soft baked cookies are amazingly delicious...</td>\n",
       "      <td>1</td>\n",
       "    </tr>\n",
       "    <tr>\n",
       "      <th>5684</th>\n",
       "      <td>404112</td>\n",
       "      <td>4</td>\n",
       "      <td>I found this product on a doctors website.  It...</td>\n",
       "      <td>1</td>\n",
       "    </tr>\n",
       "  </tbody>\n",
       "</table>\n",
       "<p>5685 rows × 4 columns</p>\n",
       "</div>"
      ],
      "text/plain": [
       "          Id  Score                                               Text  Label\n",
       "0     127276      5  There is something to be said about this candy...      1\n",
       "1     395444      5  In many languages around the world, \"chai\" sim...      1\n",
       "2     225935      1  Review of Asian Taste Dried Mushroom, 5-Ounce ...      0\n",
       "3     562268      5  Great flavor. I have always ordered Blue Diamo...      1\n",
       "4     491584      3  The product came with a crushed box but was OK...      0\n",
       "...      ...    ...                                                ...    ...\n",
       "5680  407146      4  For the amount of money spent on this product ...      1\n",
       "5681  323379      5  I love this product. It's really a great way t...      1\n",
       "5682  455703      5  Wow! This jerky is delicious! I have purchased...      1\n",
       "5683  563011      5  The soft baked cookies are amazingly delicious...      1\n",
       "5684  404112      4  I found this product on a doctors website.  It...      1\n",
       "\n",
       "[5685 rows x 4 columns]"
      ]
     },
     "execution_count": 7,
     "metadata": {},
     "output_type": "execute_result"
    }
   ],
   "source": [
    "# create labels \n",
    "label = []\n",
    "for i in df_review.Score:\n",
    "    if i > 3:\n",
    "        label.append(1) # positive \n",
    "    else:\n",
    "        label.append(0) # negative\n",
    "df_review[\"Label\"] = label\n",
    "df_review   "
   ]
  },
  {
   "cell_type": "code",
   "execution_count": 8,
   "id": "25d5b215",
   "metadata": {},
   "outputs": [
    {
     "name": "stdout",
     "output_type": "stream",
     "text": [
      "Train data: (3979,) (3979,)\n",
      "Test data: (1706,) (1706,)\n"
     ]
    }
   ],
   "source": [
    "# split data\n",
    "data = df_review['Text']\n",
    "y = df_review['Label']\n",
    "\n",
    "X_train, X_test, y_train, y_test = train_test_split(data, y, test_size=0.3, stratify=y, random_state = 124)\n",
    "\n",
    "print(\"Train data:\",  X_train.shape, y_train.shape)\n",
    "print(\"Test data:\",  X_test.shape, y_test.shape)"
   ]
  },
  {
   "cell_type": "code",
   "execution_count": 9,
   "id": "be4b5762",
   "metadata": {},
   "outputs": [
    {
     "name": "stdout",
     "output_type": "stream",
     "text": [
      "Train data: (6192,) (6192,)\n",
      "Test data: (1706,) (1706,)\n"
     ]
    }
   ],
   "source": [
    "# Upsampling for training\n",
    "train = pd.DataFrame({'text':X_train, 'label':y_train})\n",
    "#Count 1s and 0s\n",
    "ones = len(train.loc[train['label'] == 1])\n",
    "zeros = len(train.loc[train['label'] == 0])\n",
    "if ones >= zeros:\n",
    "    majority = 1\n",
    "    minority = 0\n",
    "else:\n",
    "    majority = 0\n",
    "    minority = 1\n",
    "    \n",
    "# Upsample TrainingSet\n",
    "train_majority = train[train.label==majority]\n",
    "train_minority = train[train.label==minority]\n",
    "\n",
    "# Upsample minority class\n",
    "train_minority_upsampled = resample(train_minority, \n",
    "                                 replace=True,     # sample with replacement\n",
    "                                 n_samples=len(train_majority),    # to match majority class\n",
    "                                 random_state=42) # reproducible results\n",
    "\n",
    "# Combine majority class with upsampled minority class\n",
    "train = pd.concat([train_majority, train_minority_upsampled])\n",
    "X_train = train['text']\n",
    "y_train = train['label']\n",
    "print(\"Train data:\",  X_train.shape, y_train.shape)\n",
    "print(\"Test data:\",  X_test.shape, y_test.shape)"
   ]
  },
  {
   "cell_type": "markdown",
   "id": "0c335bd9",
   "metadata": {},
   "source": [
    "### Step 2: Modelo"
   ]
  },
  {
   "cell_type": "code",
   "execution_count": 10,
   "id": "51a868ce",
   "metadata": {},
   "outputs": [
    {
     "data": {
      "application/vnd.jupyter.widget-view+json": {
       "model_id": "6f1230853774462f996a7bf95bd030ce",
       "version_major": 2,
       "version_minor": 0
      },
      "text/plain": [
       "HBox(children=(FloatProgress(value=0.0, description='Downloading', max=230.0, style=ProgressStyle(description_…"
      ]
     },
     "metadata": {},
     "output_type": "display_data"
    },
    {
     "name": "stdout",
     "output_type": "stream",
     "text": [
      "\n"
     ]
    }
   ],
   "source": [
    "# load the model classifier \n",
    "model_pipline = 'distilbert-base-uncased-finetuned-sst-2-english' \n",
    "classifier = pipeline('sentiment-analysis', model_pipline)\n"
   ]
  },
  {
   "cell_type": "code",
   "execution_count": 11,
   "id": "37f0d332",
   "metadata": {},
   "outputs": [],
   "source": [
    "# take time (1 minute aprox)\n",
    "max_length = 512 \n",
    "Label_pred = []\n",
    "Score_pred = []\n",
    "for i in X_test: \n",
    "    results = classifier(i[0:max_length])\n",
    "    Label_pred.append(results[0]['label'])\n",
    "    Score_pred.append(results[0]['score'])"
   ]
  },
  {
   "cell_type": "code",
   "execution_count": 12,
   "id": "74d6abca",
   "metadata": {},
   "outputs": [],
   "source": [
    "# change format of labels prediction, from text to numbers\n",
    "y_pred = [1 if i=='POSITIVE' else 0 for i in Label_pred]"
   ]
  },
  {
   "cell_type": "markdown",
   "id": "5503105d",
   "metadata": {},
   "source": [
    "### Step 3: Resultados"
   ]
  },
  {
   "cell_type": "code",
   "execution_count": 13,
   "id": "1d70c0b5",
   "metadata": {},
   "outputs": [],
   "source": [
    "# get metrics\n",
    "y = y_test.tolist()\n",
    "metrics1 = metrics_report(y, y_pred)\n",
    "p1 = metrics1[0]\n",
    "r1 = metrics1[1]\n",
    "f1 = metrics1[2]\n",
    "ac1 = metrics1[3]\n"
   ]
  },
  {
   "cell_type": "code",
   "execution_count": 14,
   "id": "0c97d5e0",
   "metadata": {},
   "outputs": [
    {
     "data": {
      "text/html": [
       "<div>\n",
       "<style scoped>\n",
       "    .dataframe tbody tr th:only-of-type {\n",
       "        vertical-align: middle;\n",
       "    }\n",
       "\n",
       "    .dataframe tbody tr th {\n",
       "        vertical-align: top;\n",
       "    }\n",
       "\n",
       "    .dataframe thead th {\n",
       "        text-align: right;\n",
       "    }\n",
       "</style>\n",
       "<table border=\"1\" class=\"dataframe\">\n",
       "  <thead>\n",
       "    <tr style=\"text-align: right;\">\n",
       "      <th></th>\n",
       "      <th>Model</th>\n",
       "      <th>Precision</th>\n",
       "      <th>Recall</th>\n",
       "      <th>F1</th>\n",
       "      <th>Accuracy</th>\n",
       "    </tr>\n",
       "  </thead>\n",
       "  <tbody>\n",
       "    <tr>\n",
       "      <th>0</th>\n",
       "      <td>distilbert</td>\n",
       "      <td>0.939056</td>\n",
       "      <td>0.823795</td>\n",
       "      <td>0.877657</td>\n",
       "      <td>0.821219</td>\n",
       "    </tr>\n",
       "  </tbody>\n",
       "</table>\n",
       "</div>"
      ],
      "text/plain": [
       "        Model  Precision    Recall        F1  Accuracy\n",
       "0  distilbert   0.939056  0.823795  0.877657  0.821219"
      ]
     },
     "execution_count": 14,
     "metadata": {},
     "output_type": "execute_result"
    }
   ],
   "source": [
    "# print results\n",
    "m1 = model_pipline.split('-')[0]\n",
    "d = {'Model':[m1], 'Precision':[p1], 'Recall':[r1], 'F1':[f1], 'Accuracy':[ac1]}\n",
    "Bert1_results = pd.DataFrame(d)\n",
    "Bert1_results"
   ]
  },
  {
   "cell_type": "code",
   "execution_count": null,
   "id": "eb29d7ca",
   "metadata": {},
   "outputs": [],
   "source": []
  }
 ],
 "metadata": {
  "kernelspec": {
   "display_name": "audibert_ermal",
   "language": "python",
   "name": "audibert_ermal"
  },
  "language_info": {
   "codemirror_mode": {
    "name": "ipython",
    "version": 3
   },
   "file_extension": ".py",
   "mimetype": "text/x-python",
   "name": "python",
   "nbconvert_exporter": "python",
   "pygments_lexer": "ipython3",
   "version": "3.7.11"
  }
 },
 "nbformat": 4,
 "nbformat_minor": 5
}
