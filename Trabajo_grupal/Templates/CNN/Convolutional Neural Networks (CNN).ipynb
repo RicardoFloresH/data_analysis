{
 "cells": [
  {
   "cell_type": "markdown",
   "id": "a2f7e3dd",
   "metadata": {},
   "source": [
    "## Convolutional Neural Networks (CNN)\n",
    "### Image classification\n",
    "#### source:  Deep learning with Pytorch book \n",
    "Ricardo Flores, www.rflores.cl"
   ]
  },
  {
   "cell_type": "markdown",
   "id": "911023be",
   "metadata": {},
   "source": [
    "### Step 0: Cargar librerias"
   ]
  },
  {
   "cell_type": "code",
   "execution_count": 2,
   "id": "2b2f4160",
   "metadata": {},
   "outputs": [],
   "source": [
    "from torchvision import datasets\n",
    "from torchvision import transforms \n",
    "import torch\n",
    "import torch.nn as nn\n",
    "import torch.nn.functional as F\n",
    "from matplotlib import pyplot as plt\n",
    "import datetime"
   ]
  },
  {
   "cell_type": "markdown",
   "id": "4cb33c31",
   "metadata": {},
   "source": [
    "### Steps 1: Datos"
   ]
  },
  {
   "cell_type": "markdown",
   "id": "2c080165",
   "metadata": {},
   "source": [
    "Es posible cargar _datasets_ típicos y _benchmark_ utilizados para probar y experimentar (e.g. CIFAR10, Imagenet, MNIST) directamente\n",
    "con PyTorch modulo [Torchvision](https://pytorch.org/vision/stable/datasets.html).\n"
   ]
  },
  {
   "cell_type": "code",
   "execution_count": 3,
   "id": "3df39609",
   "metadata": {},
   "outputs": [
    {
     "name": "stdout",
     "output_type": "stream",
     "text": [
      "Files already downloaded and verified\n",
      "Files already downloaded and verified\n"
     ]
    }
   ],
   "source": [
    "# Loading CIFAR10 dataset\n",
    "data_path = './data/'\n",
    "#cifar10 = datasets.CIFAR10(data_path, train=True, download=True)\n",
    "cifar10 = datasets.CIFAR10(data_path, train=True, download=True)      # train\n",
    "cifar10_val = datasets.CIFAR10(data_path, train=False, download=True) # test\n"
   ]
  },
  {
   "cell_type": "code",
   "execution_count": 4,
   "id": "9e464256",
   "metadata": {},
   "outputs": [
    {
     "data": {
      "image/png": "[encoded data removed]",
      "text/plain": [
       "<Figure size 432x288 with 1 Axes>"
      ]
     },
     "metadata": {
      "needs_background": "light"
     },
     "output_type": "display_data"
    }
   ],
   "source": [
    "# Plot one image\n",
    "img, label = cifar10[30]\n",
    "plt.imshow(img)\n",
    "plt.show()"
   ]
  },
  {
   "cell_type": "code",
   "execution_count": 8,
   "id": "078fc358",
   "metadata": {},
   "outputs": [
    {
     "name": "stdout",
     "output_type": "stream",
     "text": [
      "Files already downloaded and verified\n",
      "Files already downloaded and verified\n"
     ]
    }
   ],
   "source": [
    "# Transform data to pytorch tensor, and normalization\n",
    "cifar10 = datasets.CIFAR10(\n",
    "    data_path, train=True, download=True,\n",
    "    transform=transforms.Compose([\n",
    "        transforms.ToTensor(),\n",
    "        transforms.Normalize((0.4915, 0.4823, 0.4468),\n",
    "                             (0.2470, 0.2435, 0.2616))\n",
    "    ]))\n",
    "\n",
    "cifar10_val = datasets.CIFAR10(\n",
    "    data_path, train=False, download=True,\n",
    "    transform=transforms.Compose([\n",
    "        transforms.ToTensor(),\n",
    "        transforms.Normalize((0.4915, 0.4823, 0.4468),\n",
    "                             (0.2470, 0.2435, 0.2616))\n",
    "    ]))"
   ]
  },
  {
   "cell_type": "code",
   "execution_count": 9,
   "id": "9aa382c2",
   "metadata": {},
   "outputs": [
    {
     "name": "stderr",
     "output_type": "stream",
     "text": [
      "Clipping input data to the valid range for imshow with RGB data ([0..1] for floats or [0..255] for integers).\n"
     ]
    },
    {
     "data": {
      "image/png": "[encoded data removed]",
      "text/plain": [
       "<Figure size 432x288 with 1 Axes>"
      ]
     },
     "metadata": {
      "needs_background": "light"
     },
     "output_type": "display_data"
    }
   ],
   "source": [
    "# Plot transformed image\n",
    "img_t, _ = cifar10[30]\n",
    "plt.imshow(img_t.permute(1, 2, 0))\n",
    "plt.show()"
   ]
  },
  {
   "cell_type": "code",
   "execution_count": 10,
   "id": "27f9f528",
   "metadata": {},
   "outputs": [],
   "source": [
    "# Select birds and airplanes\n",
    "label_map = {0: 0, 2: 1}\n",
    "class_names = ['airplane', 'bird']\n",
    "\n",
    "cifar2 = [(img, label_map[label]) for img, label in cifar10 if label in [0, 2]]\n",
    "cifar2_val = [(img, label_map[label]) for img, label in cifar10_val if label in [0, 2]]"
   ]
  },
  {
   "cell_type": "markdown",
   "id": "e2314ff5",
   "metadata": {},
   "source": [
    "### Step 2: Modelo"
   ]
  },
  {
   "cell_type": "code",
   "execution_count": 18,
   "id": "a7cfc5a9",
   "metadata": {},
   "outputs": [],
   "source": [
    "# Model \n",
    "class CNN(nn.Module):\n",
    "    def __init__(self):\n",
    "        super().__init__()\n",
    "        self.conv1 = nn.Conv2d(3, 16, kernel_size=3, padding=1) # convolutional layer\n",
    "        self.conv2 = nn.Conv2d(16, 8, kernel_size=3, padding=1) # convolutional layer\n",
    "        self.fc1 = nn.Linear(8 * 8 * 8, 32)                     # Fully connected\n",
    "        self.fc2 = nn.Linear(32, 2)                             # Fully connected\n",
    "    def forward(self, x): # input img\n",
    "        out = F.max_pool2d(torch.tanh(self.conv1(x)), 2)        # max pooling\n",
    "        out = F.max_pool2d(torch.tanh(self.conv2(out)), 2)      # max pooling\n",
    "        out = out.view(-1, 8 * 8 * 8)                           # tranform the out\n",
    "        out = torch.tanh(self.fc1(out))\n",
    "        out = self.fc2(out)\n",
    "        return out  # dim: number of class"
   ]
  },
  {
   "cell_type": "code",
   "execution_count": 19,
   "id": "43d63284",
   "metadata": {},
   "outputs": [],
   "source": [
    "# Training function \n",
    "def training_loop(n_epochs, optimizer, model, loss_fn, train_loader):\n",
    "    loss_list = []\n",
    "    for epoch in range(1, n_epochs + 1):\n",
    "        loss_train = 0.0 \n",
    "        for imgs, labels in train_loader:  # batch \n",
    "            outputs = model(imgs)\n",
    "            loss = loss_fn(outputs, labels)\n",
    "            optimizer.zero_grad()\n",
    "            loss.backward()               # backpro\n",
    "            optimizer.step()              # update w\n",
    "            \n",
    "            loss_train += loss.item()\n",
    "        if epoch == 1 or epoch % 10 == 0:\n",
    "            print('Epoch {}, Training loss {}'.format(epoch,\n",
    "            loss_train / len(train_loader)))\n",
    "            loss_list.append(loss_train / len(train_loader))\n",
    "    return loss_list\n",
    "            "
   ]
  },
  {
   "cell_type": "code",
   "execution_count": 21,
   "id": "7a74c691",
   "metadata": {},
   "outputs": [],
   "source": [
    "# Dataloader\n",
    "train_loader = torch.utils.data.DataLoader(cifar2, batch_size=64, shuffle=True)"
   ]
  },
  {
   "cell_type": "code",
   "execution_count": 25,
   "id": "174fa7c5",
   "metadata": {},
   "outputs": [
    {
     "name": "stdout",
     "output_type": "stream",
     "text": [
      "Epoch 1, Training loss 0.5845507804755192\n",
      "Epoch 10, Training loss 0.335722461058076\n",
      "Epoch 20, Training loss 0.3013656667083692\n",
      "Epoch 30, Training loss 0.2776144940382356\n",
      "Epoch 40, Training loss 0.25782008184369204\n",
      "Epoch 50, Training loss 0.24051546732521362\n"
     ]
    }
   ],
   "source": [
    "# Run, traning\n",
    "model = CNN()                                      # call our cnn class\n",
    "optimizer = torch.optim.SGD(model.parameters(), lr=0.01) # Stochastic gradient descent\n",
    "loss_fn = nn.CrossEntropyLoss()                    # Loss function\n",
    "\n",
    "Loss1 = training_loop(\n",
    "    n_epochs = 50,\n",
    "    optimizer = optimizer,\n",
    "    model = model,\n",
    "    loss_fn = loss_fn,\n",
    "    train_loader = train_loader,\n",
    ")\n"
   ]
  },
  {
   "cell_type": "code",
   "execution_count": 26,
   "id": "fbb51c29",
   "metadata": {},
   "outputs": [
    {
     "data": {
      "text/plain": [
       "Text(0, 0.5, 'Loss')"
      ]
     },
     "execution_count": 26,
     "metadata": {},
     "output_type": "execute_result"
    },
    {
     "data": {
      "image/png": "[encoded data removed]",
      "text/plain": [
       "<Figure size 432x288 with 1 Axes>"
      ]
     },
     "metadata": {
      "needs_background": "light"
     },
     "output_type": "display_data"
    }
   ],
   "source": [
    "# plot loss\n",
    "plt.plot(Loss1)\n",
    "plt.xlabel('Epoch(x10)')\n",
    "plt.ylabel('Loss')"
   ]
  },
  {
   "cell_type": "markdown",
   "id": "c07f956c",
   "metadata": {},
   "source": [
    "### Step 3: Resultados"
   ]
  },
  {
   "cell_type": "code",
   "execution_count": 27,
   "id": "5a795183",
   "metadata": {},
   "outputs": [
    {
     "name": "stdout",
     "output_type": "stream",
     "text": [
      "Accuracy train: 0.89\n",
      "Accuracy val: 0.88\n"
     ]
    }
   ],
   "source": [
    "# Testing metric\n",
    "train_loader = torch.utils.data.DataLoader(cifar2, batch_size=64,\n",
    "                                            shuffle=False)\n",
    "val_loader = torch.utils.data.DataLoader(cifar2_val, batch_size=64,\n",
    "                                            shuffle=False)\n",
    "def validate(model, train_loader, val_loader):\n",
    "    for name, loader in [(\"train\", train_loader), (\"val\", val_loader)]:\n",
    "        correct = 0\n",
    "        total = 0\n",
    "        with torch.no_grad():\n",
    "            for imgs, labels in loader:\n",
    "                outputs = model(imgs)\n",
    "                _, predicted = torch.max(outputs, dim=1)\n",
    "                total += labels.shape[0]\n",
    "                # metrics: Acc, F1, AUC, Precision, Recall, \n",
    "                correct += int((predicted == labels).sum())\n",
    "        print(\"Accuracy {}: {:.2f}\".format(name , correct / total))\n",
    "\n",
    "validate(model, train_loader, val_loader)\n"
   ]
  },
  {
   "cell_type": "code",
   "execution_count": null,
   "id": "a976e745",
   "metadata": {},
   "outputs": [],
   "source": []
  }
 ],
 "metadata": {
  "kernelspec": {
   "display_name": "Python 3 (ipykernel)",
   "language": "python",
   "name": "python3"
  },
  "language_info": {
   "codemirror_mode": {
    "name": "ipython",
    "version": 3
   },
   "file_extension": ".py",
   "mimetype": "text/x-python",
   "name": "python",
   "nbconvert_exporter": "python",
   "pygments_lexer": "ipython3",
   "version": "3.8.11"
  }
 },
 "nbformat": 4,
 "nbformat_minor": 5
}
